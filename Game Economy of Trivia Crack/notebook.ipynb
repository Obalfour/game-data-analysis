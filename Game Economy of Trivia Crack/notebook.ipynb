{
 "cells": [
  {
   "cell_type": "markdown",
   "id": "56d25a19-700a-465d-b44e-54acbf9b143f",
   "metadata": {
    "tags": []
   },
   "source": [
    "## 1. Trivia Crack\n",
    "<p><a href=\"https://www.facebook.com/TriviaCrack/\">Trivia Crack</a> is a very popular mobile quiz game developed by Etermax. It's a competitive trivia game where the user can challenge other players on a variety of interesting topics answering multiple-choice questions. Check out this short trailer:</p>\n",
    "<p><a href=\"https://youtu.be/TfStU4RWDFg\"><img src=\"https://i.ytimg.com/vi/TfStU4RWDFg/maxresdefault.jpg\" style=\"width: 500px; float:center\"></a></p>\n",
    "<p>As players progress through the game, they will win gold coins when they beat their rival. This type of currency that is generally earned by playing or just waiting is called soft currency and can be spent for in-game benefits like lives, power-ups and gems. These currencies can be used to separate some content for paying and non-paying players or it can be used to have a better understanding of the game economy and detect opportunities to maximize revenue. For example, by having special offers in some weeks of the year that might be more profitable.\n",
    "<p><img src=\"https://149493502.v2.pressablecdn.com/wp-content/uploads/2015/06/trivia-crack-upgrades.jpg\" alt></p>\n",
    "<p>When the developers should release a special offer? We will explore a dataset of transactions and try to find an answer on how to put a good deal for players!</p>"
   ]
  },
  {
   "cell_type": "code",
   "execution_count": null,
   "id": "d0eb4f16-5a99-460d-a5ba-706b7ef0bbe7",
   "metadata": {
    "id": "bA5ajAmk7XH6"
   },
   "outputs": [],
   "source": [
    "# Importing pandas\n",
    "import pandas as pd\n",
    "\n",
    "# Reading in the data\n",
    "df = pd.read_csv('./datasets/trivia_crack.csv', parse_dates=[1,3]).dropna()\n",
    "\n",
    "# Showing the first few rows\n",
    "df.head()"
   ]
  },
  {
   "cell_type": "markdown",
   "id": "4e330034-cd08-44b0-b3b1-23c68a169dcc",
   "metadata": {},
   "source": [
    "## 2. Total amount of coins spent\n",
    "<p><img src=\"https://i.imgur.com/MhzF4j2.png\" style=\"width:180px; float:right\"> </p>\n",
    "<p>The data we have is from 95,388 players that made a transaction during July 2018.<br>The variables are:</p>\n",
    "<ul>\n",
    "<li><code>user_id</code> - anonymized user identifier.</li>\n",
    "<li><code>user_creation_time</code> - date and time the user registered (UTC).</li>\n",
    "<li><code>platform</code> - user platform. It can be Android or iOS.</li>\n",
    "<li><code>event_time</code> - date and time the coin spend event was recorded (UTC).</li>\n",
    "<li><code>sink_channel</code> - type of good or benefit obtained in exchange for coins.</li>\n",
    "<li><code>amount_spent</code> - amount of coins spent.</li>\n",
    "<li><code>coins_balance</code> - \n",
    "balance in user currencies, after the expense has been made.</li>\n",
    "</ul>\n",
    "<p>Let's see how much coins where spent during this period of time.</p>"
   ]
  },
  {
   "cell_type": "code",
   "execution_count": null,
   "id": "ef635203-8c5f-4769-a29f-40348e3f75cf",
   "metadata": {},
   "outputs": [],
   "source": [
    "print(\"Number of players:\")\n",
    "print(df['user_id'].nunique())\n",
    "\n",
    "print(\"\\nPeriod for which we have data:\")\n",
    "print([df['event_time'].min().strftime('%m/%d/%Y'),df['event_time'].max().strftime('%m/%d/%Y')])\n",
    "\n",
    "print(\"\\nTotal amount of coins spent:\")\n",
    "print(df['amount_spent'].sum().astype(int))"
   ]
  },
  {
   "cell_type": "markdown",
   "id": "9177ff7c-d1ac-47a4-850c-24cd0f51a1a8",
   "metadata": {},
   "source": [
    "## 3. Percentage of total spent by platform\n",
    "\n",
    "<p>It looks like there is a lot of coins that has been traded on July.</p>\n",
    "<p>Just for fun, let's take a look on how the amount varies depending on the platform the games is played. This can be useful to detect if you should create a campaign for a specific platform.</p>"
   ]
  },
  {
   "cell_type": "code",
   "execution_count": null,
   "id": "d593e5e0-c84c-442c-bc58-f6454e040f8f",
   "metadata": {},
   "outputs": [],
   "source": [
    "# Importing altair for visualizations\n",
    "import altair as alt\n",
    "\n",
    "# Adding up the total amount spent for each platform\n",
    "plot_df = df.groupby('platform')['amount_spent'].sum().reset_index()\n",
    "\n",
    "# Plotting the percentage of total amount spent by platform\n",
    "alt.Chart(plot_df).transform_joinaggregate(\n",
    "    total_amount='sum(amount_spent)',\n",
    ").transform_calculate(\n",
    "    percent_of_total=\"datum.amount_spent / datum.total_amount\"\n",
    ").mark_bar(color=\"#C69320\").encode(\n",
    "    alt.X('percent_of_total:Q', axis=alt.Axis(format='.0%'), title='percentage of total'),\n",
    "    y='platform:N'\n",
    ")"
   ]
  },
  {
   "cell_type": "markdown",
   "id": "68800fa0-88c7-40b5-b218-75d0920965f4",
   "metadata": {},
   "source": [
    "## 4. Amount spent by benefits\n",
    "<p><img src=\"https://i.imgur.com/BNlszql.jpeg\" style=\"width:125px; float:right\"> </p>\n",
    "<p>Another interesting topic to analyze is the type of benefits/goods that are bought. This can trigger more questions like why players preferred one item over another or which items we can include in a special pack promo.</p>"
   ]
  },
  {
   "cell_type": "code",
   "execution_count": null,
   "id": "043925fb-aa81-447f-b276-3f050ca64ead",
   "metadata": {},
   "outputs": [],
   "source": [
    "# Adding up the amount spent each day by every type of benefit\n",
    "benefit_spending = df.groupby(by=[df['event_time'].dt.date,'sink_channel'])['amount_spent'].sum().reset_index()\n",
    "benefit_spending['event_time'] = benefit_spending ['event_time'].astype('datetime64')\n",
    "\n",
    "# Plotting the amount spent by type of benefit\n",
    "alt.Chart(benefit_spending).mark_bar().encode(\n",
    "    x='event_time',\n",
    "    y='amount_spent',\n",
    "    color='sink_channel'\n",
    ")"
   ]
  },
  {
   "cell_type": "markdown",
   "id": "2bedc48a-eb87-4c1d-8444-01132726dda2",
   "metadata": {},
   "source": [
    "## 5. Amount spent by day\n",
    "\n",
    "<p><img src=\"https://i.imgur.com/aYpOfR5.jpeg\" style=\"width:125px; float:right\"> </p>\n",
    "<p>Analysing transactions by day can enable more precise targeting of in-app offers. For example, to schedule promotions on a specific day when users are more likely to make a purchase.</p>"
   ]
  },
  {
   "cell_type": "code",
   "execution_count": null,
   "id": "5c5eed25-2afa-4293-a214-aad4787f1abc",
   "metadata": {},
   "outputs": [],
   "source": [
    "# Adding up the amount spent for each date \n",
    "difficulty = df.groupby(df['event_time'].dt.date)['amount_spent'].sum().reset_index()\n",
    "difficulty['event_time'] = difficulty['event_time'].astype('datetime64')\n",
    "\n",
    "# Plotting the total amount spent by day\n",
    "base = alt.Chart(difficulty).transform_calculate(\n",
    "    week_number=\"floor((date(datum.event_time)-1) / 7)\"\n",
    ").encode(\n",
    "    alt.X('day(event_time):O', title='Week day'),\n",
    "    alt.Y('week_number:O', axis=None),\n",
    ").properties(width=600,height=150)\n",
    "\n",
    "# Configure heatmap\n",
    "heatmap = base.mark_rect(color='red').encode(\n",
    "    color=alt.Color('amount_spent:Q', scale=alt.Scale(scheme=\"goldred\"))\n",
    ")\n",
    "\n",
    "# Configure text\n",
    "text = base.mark_text().encode(\n",
    "    text='date(event_time):T',\n",
    "    color=alt.condition(\n",
    "        alt.datum.amount_spent < 20000000,\n",
    "        alt.value('black'),\n",
    "        alt.value('white')\n",
    "    )\n",
    ")\n",
    "\n",
    "# Draw the chart\n",
    "heatmap + text"
   ]
  },
  {
   "cell_type": "markdown",
   "id": "4154e449-e317-4307-bb16-77645003f2a2",
   "metadata": {},
   "source": [
    "## 6. Amount spent vs users registered\n",
    "\n",
    "<p>So, during the third week of July we can notice a significant increase of coins spent. Now, let's take a closer look and compare the amount spent average vs users registered average to see if we can find some relation between the two variables.</p>"
   ]
  },
  {
   "cell_type": "code",
   "execution_count": null,
   "id": "473013a7-8b66-4df9-8bdb-1b5a87f113ca",
   "metadata": {},
   "outputs": [],
   "source": [
    "# Counting unique users registered for each date \n",
    "source = df.groupby([df['user_creation_time'].dt.date])['user_id'].nunique().reset_index(name = 'users_registered')\n",
    "# Adding up the amount spent for each date \n",
    "source['amount_spent'] = df.groupby(df['event_time'].dt.date)['amount_spent'].sum().reset_index()['amount_spent']\n",
    "source['user_creation_time'] = source['user_creation_time'].astype('datetime64')\n",
    "\n",
    "# Plotting amount spent avg vs users registered avg\n",
    "base = alt.Chart(source).encode(\n",
    "    x=alt.X('user_creation_time:T', title='date')\n",
    ")\n",
    "\n",
    "# Configure line chart of amount spent avg\n",
    "amount_spent = base.mark_line(color=\"#C69320\").transform_window(\n",
    "    # The field to average\n",
    "    rolling_mean='mean(amount_spent)',\n",
    "    # The number of values before and after the current value to include.\n",
    "    frame=[-2, 0]\n",
    ").encode(\n",
    "    y=alt.Y('rolling_mean:Q', axis=alt.Axis(format='$f', title='amount spent avg', titleColor='#C69320'))\n",
    ")\n",
    "\n",
    "# Configure line chart of users registered avg\n",
    "users_registered = base.mark_line(color='#80CEE1').transform_window(\n",
    "    rolling_mean='mean(users_registered)',\n",
    "    frame=[-2, 0]\n",
    ").encode(\n",
    "    y=alt.Y('rolling_mean:Q', axis=alt.Axis(format='d', title='users registered avg', titleColor='#80CEE1'))\n",
    ")\n",
    "\n",
    "alt.layer(amount_spent, users_registered).resolve_scale(\n",
    "    y = 'independent'\n",
    ")"
   ]
  },
  {
   "cell_type": "markdown",
   "id": "d503a3aa-4cbb-4699-8643-f2b77a298700",
   "metadata": {},
   "source": [
    "## 7. Days passed between registration and first transaction\n",
    "\n",
    "<p>There is a similarity between the distribution of amount and users registered. The peak of coins spent can be related to an increase of users registered during the third week. Let's plot how many days pass between the registration and the first transaction.</p>"
   ]
  },
  {
   "cell_type": "code",
   "execution_count": null,
   "id": "7c2966a0-1225-43fe-baae-45f62203d080",
   "metadata": {},
   "outputs": [],
   "source": [
    "# Filtering the first transaction of each user\n",
    "transactions = df.loc[df.groupby('user_id')['event_time'].idxmin()]\n",
    "# Counting the days between the registration and the first transaction \n",
    "transactions['days'] = (df['event_time'] - df['user_creation_time']).dt.days\n",
    "# Counting the amount of transactions grouped by the days passed\n",
    "transactions = transactions.groupby('days')['user_id'].count().reset_index(name = 'first_transaction')\n",
    "\n",
    "# Plotting the amount of first transactions by the days passed\n",
    "alt.Chart(transactions).transform_filter(\n",
    "    'datum.days > 0'\n",
    ").mark_bar().encode(\n",
    "    x='days',\n",
    "    y='first_transaction'\n",
    ")"
   ]
  },
  {
   "cell_type": "markdown",
   "id": "da8cfb96-9dc4-46a8-b4da-711355569356",
   "metadata": {},
   "source": [
    "## 8. Conclusion\n",
    "<p><img src=\"https://www.triviacrack.com/static/media/willy.c2defd328754a06192ff.png\" style=\"width:150px; float:right\"> </p>\n",
    "<p>It seems that the increase in money spent in the third week is due to a rise in registered users during that week. </p>\n",
    "<p>New users tend to spend the coins they earned on their first day, so we can offer a good deal for new users to get acquainted with in-app purchase promotions.</p>"
   ]
  },
  {
   "cell_type": "code",
   "execution_count": null,
   "id": "16a3cb1f-0057-497e-b2bd-c801aace04e6",
   "metadata": {},
   "outputs": [],
   "source": [
    "# Should we create a sweet deal on the third week of the month for new users ?\n",
    "create_deal = True"
   ]
  }
 ],
 "metadata": {
  "colab": {
   "name": "Welcome to DataCamp Workspaces.ipynb",
   "provenance": []
  },
  "kernelspec": {
   "display_name": "Python 3 (ipykernel)",
   "language": "python",
   "name": "python3"
  },
  "language_info": {
   "codemirror_mode": {
    "name": "ipython",
    "version": 3
   },
   "file_extension": ".py",
   "mimetype": "text/x-python",
   "name": "python",
   "nbconvert_exporter": "python",
   "pygments_lexer": "ipython3",
   "version": "3.8.10"
  }
 },
 "nbformat": 4,
 "nbformat_minor": 5
}

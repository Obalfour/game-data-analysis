{
 "cells": [
  {
   "cell_type": "markdown",
   "id": "56d25a19-700a-465d-b44e-54acbf9b143f",
   "metadata": {
    "tags": []
   },
   "source": [
    "## 1. Trivia Crack\n",
    "<p><a href=\"https://www.facebook.com/TriviaCrack/\">Trivia Crack</a> is a very popular mobile quiz game developed by Etermax. It's a competitive trivia game where the user can challenge other players on a variety of interesting topics answering multiple-choice questions. Check out this short trailer:</p>\n",
    "<p><a href=\"https://youtu.be/TfStU4RWDFg\"><img src=\"https://i.ytimg.com/vi/TfStU4RWDFg/maxresdefault.jpg\" style=\"width: 500px; float:center\"></a></p>\n",
    "<p>As players progress through the game, they will win gold coins when they beat their rival. This type of currency that is generally earned by playing or just waiting is called soft currency and can be spent for in-game benefits like lives, power-ups and gems. These currencies can be used to separate some content for paying and non-paying players or it can be used to have a better understanding of the game economy and detect opportunities to maximize revenue. For example, by having special offers in some weeks of the year that might be more profitable.\n",
    "<p><img src=\"https://149493502.v2.pressablecdn.com/wp-content/uploads/2015/06/trivia-crack-upgrades.jpg\" alt></p>\n",
    "<p>When the developers should release a special offer? We will explore a dataset of transactions and try to find an answer on how to put a good deal for players!</p>"
   ]
  },
  {
   "cell_type": "code",
   "execution_count": 2,
   "id": "d0eb4f16-5a99-460d-a5ba-706b7ef0bbe7",
   "metadata": {
    "id": "bA5ajAmk7XH6"
   },
   "outputs": [
    {
     "data": {
      "application/com.datacamp.data-table.v1+json": {
       "is_truncated": false,
       "table": {
        "data": [
         {
          "amount_spent": 480,
          "coins_balance": 14305,
          "event_time": "2018-07-01T22:39:18.613Z",
          "index": 0,
          "platform": "Android",
          "sink_channel": "sink_1",
          "user_creation_time": "2018-07-01T00:50:46.733Z",
          "user_id": "c4e2364"
         },
         {
          "amount_spent": 0,
          "coins_balance": 580,
          "event_time": "2018-07-12T23:44:29.592Z",
          "index": 1,
          "platform": "Android",
          "sink_channel": "sink_1",
          "user_creation_time": "2018-07-11T22:01:00.478Z",
          "user_id": "8738ae95"
         },
         {
          "amount_spent": 240,
          "coins_balance": 3780,
          "event_time": "2018-07-24T18:38:39.918Z",
          "index": 2,
          "platform": "Android",
          "sink_channel": "sink_1",
          "user_creation_time": "2018-07-11T22:01:00.478Z",
          "user_id": "8738ae95"
         },
         {
          "amount_spent": 480,
          "coins_balance": 36200,
          "event_time": "2018-07-17T02:12:24.354Z",
          "index": 3,
          "platform": "Android",
          "sink_channel": "sink_1",
          "user_creation_time": "2018-07-15T00:57:53.116Z",
          "user_id": "d21dd44d"
         },
         {
          "amount_spent": 480,
          "coins_balance": 42310,
          "event_time": "2018-07-15T23:00:04.470Z",
          "index": 4,
          "platform": "Android",
          "sink_channel": "sink_1",
          "user_creation_time": "2018-07-15T00:57:53.116Z",
          "user_id": "d21dd44d"
         }
        ],
        "schema": {
         "fields": [
          {
           "name": "index",
           "type": "integer"
          },
          {
           "name": "user_id",
           "type": "string"
          },
          {
           "name": "user_creation_time",
           "type": "datetime",
           "tz": "UTC"
          },
          {
           "name": "platform",
           "type": "string"
          },
          {
           "name": "event_time",
           "type": "datetime",
           "tz": "UTC"
          },
          {
           "name": "sink_channel",
           "type": "string"
          },
          {
           "name": "amount_spent",
           "type": "number"
          },
          {
           "name": "coins_balance",
           "type": "number"
          }
         ],
         "pandas_version": "1.4.0",
         "primaryKey": [
          "index"
         ]
        }
       },
       "total_rows": 5
      },
      "text/html": [
       "<div>\n",
       "<style scoped>\n",
       "    .dataframe tbody tr th:only-of-type {\n",
       "        vertical-align: middle;\n",
       "    }\n",
       "\n",
       "    .dataframe tbody tr th {\n",
       "        vertical-align: top;\n",
       "    }\n",
       "\n",
       "    .dataframe thead th {\n",
       "        text-align: right;\n",
       "    }\n",
       "</style>\n",
       "<table border=\"1\" class=\"dataframe\">\n",
       "  <thead>\n",
       "    <tr style=\"text-align: right;\">\n",
       "      <th></th>\n",
       "      <th>user_id</th>\n",
       "      <th>user_creation_time</th>\n",
       "      <th>platform</th>\n",
       "      <th>event_time</th>\n",
       "      <th>sink_channel</th>\n",
       "      <th>amount_spent</th>\n",
       "      <th>coins_balance</th>\n",
       "    </tr>\n",
       "  </thead>\n",
       "  <tbody>\n",
       "    <tr>\n",
       "      <th>0</th>\n",
       "      <td>c4e2364</td>\n",
       "      <td>2018-07-01 00:50:46.733000+00:00</td>\n",
       "      <td>Android</td>\n",
       "      <td>2018-07-01 22:39:18.613000+00:00</td>\n",
       "      <td>sink_1</td>\n",
       "      <td>480.0</td>\n",
       "      <td>14305.0</td>\n",
       "    </tr>\n",
       "    <tr>\n",
       "      <th>1</th>\n",
       "      <td>8738ae95</td>\n",
       "      <td>2018-07-11 22:01:00.478000+00:00</td>\n",
       "      <td>Android</td>\n",
       "      <td>2018-07-12 23:44:29.592000+00:00</td>\n",
       "      <td>sink_1</td>\n",
       "      <td>0.0</td>\n",
       "      <td>580.0</td>\n",
       "    </tr>\n",
       "    <tr>\n",
       "      <th>2</th>\n",
       "      <td>8738ae95</td>\n",
       "      <td>2018-07-11 22:01:00.478000+00:00</td>\n",
       "      <td>Android</td>\n",
       "      <td>2018-07-24 18:38:39.918000+00:00</td>\n",
       "      <td>sink_1</td>\n",
       "      <td>240.0</td>\n",
       "      <td>3780.0</td>\n",
       "    </tr>\n",
       "    <tr>\n",
       "      <th>3</th>\n",
       "      <td>d21dd44d</td>\n",
       "      <td>2018-07-15 00:57:53.116000+00:00</td>\n",
       "      <td>Android</td>\n",
       "      <td>2018-07-17 02:12:24.354000+00:00</td>\n",
       "      <td>sink_1</td>\n",
       "      <td>480.0</td>\n",
       "      <td>36200.0</td>\n",
       "    </tr>\n",
       "    <tr>\n",
       "      <th>4</th>\n",
       "      <td>d21dd44d</td>\n",
       "      <td>2018-07-15 00:57:53.116000+00:00</td>\n",
       "      <td>Android</td>\n",
       "      <td>2018-07-15 23:00:04.470000+00:00</td>\n",
       "      <td>sink_1</td>\n",
       "      <td>480.0</td>\n",
       "      <td>42310.0</td>\n",
       "    </tr>\n",
       "  </tbody>\n",
       "</table>\n",
       "</div>"
      ],
      "text/plain": [
       "    user_id               user_creation_time platform  \\\n",
       "0   c4e2364 2018-07-01 00:50:46.733000+00:00  Android   \n",
       "1  8738ae95 2018-07-11 22:01:00.478000+00:00  Android   \n",
       "2  8738ae95 2018-07-11 22:01:00.478000+00:00  Android   \n",
       "3  d21dd44d 2018-07-15 00:57:53.116000+00:00  Android   \n",
       "4  d21dd44d 2018-07-15 00:57:53.116000+00:00  Android   \n",
       "\n",
       "                        event_time sink_channel  amount_spent  coins_balance  \n",
       "0 2018-07-01 22:39:18.613000+00:00       sink_1         480.0        14305.0  \n",
       "1 2018-07-12 23:44:29.592000+00:00       sink_1           0.0          580.0  \n",
       "2 2018-07-24 18:38:39.918000+00:00       sink_1         240.0         3780.0  \n",
       "3 2018-07-17 02:12:24.354000+00:00       sink_1         480.0        36200.0  \n",
       "4 2018-07-15 23:00:04.470000+00:00       sink_1         480.0        42310.0  "
      ]
     },
     "execution_count": 2,
     "metadata": {},
     "output_type": "execute_result"
    }
   ],
   "source": [
    "# Importing pandas\n",
    "import pandas as pd\n",
    "\n",
    "# Reading in the data\n",
    "df = pd.read_csv('./datasets/trivia_crack.csv', parse_dates=[1,3]).dropna()\n",
    "\n",
    "# Showing the first few rows\n",
    "df.head()"
   ]
  },
  {
   "cell_type": "markdown",
   "id": "4e330034-cd08-44b0-b3b1-23c68a169dcc",
   "metadata": {},
   "source": [
    "## 2. Total amount of coins spent\n",
    "<p><img src=\"https://i.imgur.com/MhzF4j2.png\" style=\"width:180px; float:right\"> </p>\n",
    "<p>The data we have is from 95,388 players that made a transaction during July 2018.<br>The variables are:</p>\n",
    "<ul>\n",
    "<li><code>user_id</code> - anonymized user identifier.</li>\n",
    "<li><code>user_creation_time</code> - date and time the user registered (UTC).</li>\n",
    "<li><code>platform</code> - user platform. It can be Android or iOS.</li>\n",
    "<li><code>event_time</code> - date and time the coin spend event was recorded (UTC).</li>\n",
    "<li><code>sink_channel</code> - type of good or benefit obtained in exchange for coins.</li>\n",
    "<li><code>amount_spent</code> - amount of coins spent.</li>\n",
    "<li><code>coins_balance</code> - \n",
    "balance in user currencies, after the expense has been made.</li>\n",
    "</ul>\n",
    "<p>Let's see how much coins where spent during this period of time.</p>"
   ]
  },
  {
   "cell_type": "code",
   "execution_count": 3,
   "id": "ef635203-8c5f-4769-a29f-40348e3f75cf",
   "metadata": {},
   "outputs": [
    {
     "name": "stdout",
     "output_type": "stream",
     "text": [
      "Number of players:\n",
      "95388\n",
      "\n",
      "Period for which we have data:\n",
      "['07/01/2018', '07/28/2018']\n",
      "\n",
      "Total amount of coins spent:\n",
      "891244675\n"
     ]
    }
   ],
   "source": [
    "print(\"Number of players:\")\n",
    "print(df['user_id'].nunique())\n",
    "\n",
    "print(\"\\nPeriod for which we have data:\")\n",
    "print([df['event_time'].min().strftime('%m/%d/%Y'),df['event_time'].max().strftime('%m/%d/%Y')])\n",
    "\n",
    "print(\"\\nTotal amount of coins spent:\")\n",
    "print(df['amount_spent'].sum().astype(int))"
   ]
  },
  {
   "cell_type": "markdown",
   "id": "9177ff7c-d1ac-47a4-850c-24cd0f51a1a8",
   "metadata": {},
   "source": [
    "## 3. Percentage of total spent by platform\n",
    "\n",
    "<p>It looks like there is a lot of coins that has been traded on July.</p>\n",
    "<p>Just for fun, let's take a look on how the amount varies depending on the platform the games is played. This can be useful to detect if you should create a campaign for a specific platform.</p>"
   ]
  },
  {
   "cell_type": "code",
   "execution_count": 4,
   "id": "d593e5e0-c84c-442c-bc58-f6454e040f8f",
   "metadata": {},
   "outputs": [
    {
     "data": {
      "text/html": [
       "\n",
       "<div id=\"altair-viz-312790b0a34f40c6b4fca4da5953420c\"></div>\n",
       "<script type=\"text/javascript\">\n",
       "  var VEGA_DEBUG = (typeof VEGA_DEBUG == \"undefined\") ? {} : VEGA_DEBUG;\n",
       "  (function(spec, embedOpt){\n",
       "    let outputDiv = document.currentScript.previousElementSibling;\n",
       "    if (outputDiv.id !== \"altair-viz-312790b0a34f40c6b4fca4da5953420c\") {\n",
       "      outputDiv = document.getElementById(\"altair-viz-312790b0a34f40c6b4fca4da5953420c\");\n",
       "    }\n",
       "    const paths = {\n",
       "      \"vega\": \"https://cdn.jsdelivr.net/npm//vega@5?noext\",\n",
       "      \"vega-lib\": \"https://cdn.jsdelivr.net/npm//vega-lib?noext\",\n",
       "      \"vega-lite\": \"https://cdn.jsdelivr.net/npm//vega-lite@4.17.0?noext\",\n",
       "      \"vega-embed\": \"https://cdn.jsdelivr.net/npm//vega-embed@6?noext\",\n",
       "    };\n",
       "\n",
       "    function maybeLoadScript(lib, version) {\n",
       "      var key = `${lib.replace(\"-\", \"\")}_version`;\n",
       "      return (VEGA_DEBUG[key] == version) ?\n",
       "        Promise.resolve(paths[lib]) :\n",
       "        new Promise(function(resolve, reject) {\n",
       "          var s = document.createElement('script');\n",
       "          document.getElementsByTagName(\"head\")[0].appendChild(s);\n",
       "          s.async = true;\n",
       "          s.onload = () => {\n",
       "            VEGA_DEBUG[key] = version;\n",
       "            return resolve(paths[lib]);\n",
       "          };\n",
       "          s.onerror = () => reject(`Error loading script: ${paths[lib]}`);\n",
       "          s.src = paths[lib];\n",
       "        });\n",
       "    }\n",
       "\n",
       "    function showError(err) {\n",
       "      outputDiv.innerHTML = `<div class=\"error\" style=\"color:red;\">${err}</div>`;\n",
       "      throw err;\n",
       "    }\n",
       "\n",
       "    function displayChart(vegaEmbed) {\n",
       "      vegaEmbed(outputDiv, spec, embedOpt)\n",
       "        .catch(err => showError(`Javascript Error: ${err.message}<br>This usually means there's a typo in your chart specification. See the javascript console for the full traceback.`));\n",
       "    }\n",
       "\n",
       "    if(typeof define === \"function\" && define.amd) {\n",
       "      requirejs.config({paths});\n",
       "      require([\"vega-embed\"], displayChart, err => showError(`Error loading script: ${err.message}`));\n",
       "    } else {\n",
       "      maybeLoadScript(\"vega\", \"5\")\n",
       "        .then(() => maybeLoadScript(\"vega-lite\", \"4.17.0\"))\n",
       "        .then(() => maybeLoadScript(\"vega-embed\", \"6\"))\n",
       "        .catch(showError)\n",
       "        .then(() => displayChart(vegaEmbed));\n",
       "    }\n",
       "  })({\"config\": {\"view\": {\"continuousWidth\": 400, \"continuousHeight\": 300}}, \"data\": {\"name\": \"data-bff1367233eac7a77c63085793b3f01e\"}, \"mark\": {\"type\": \"bar\", \"color\": \"#C69320\"}, \"encoding\": {\"x\": {\"axis\": {\"format\": \".0%\"}, \"field\": \"percent_of_total\", \"title\": \"percentage of total\", \"type\": \"quantitative\"}, \"y\": {\"field\": \"platform\", \"type\": \"nominal\"}}, \"transform\": [{\"joinaggregate\": [{\"op\": \"sum\", \"field\": \"amount_spent\", \"as\": \"total_amount\"}]}, {\"calculate\": \"datum.amount_spent / datum.total_amount\", \"as\": \"percent_of_total\"}], \"$schema\": \"https://vega.github.io/schema/vega-lite/v4.17.0.json\", \"datasets\": {\"data-bff1367233eac7a77c63085793b3f01e\": [{\"platform\": \"Android\", \"amount_spent\": 804047880.0}, {\"platform\": \"iOS\", \"amount_spent\": 87196795.0}]}}, {\"mode\": \"vega-lite\"});\n",
       "</script>"
      ],
      "text/plain": [
       "alt.Chart(...)"
      ]
     },
     "execution_count": 4,
     "metadata": {},
     "output_type": "execute_result"
    }
   ],
   "source": [
    "# Importing altair for visualizations\n",
    "import altair as alt\n",
    "\n",
    "# Adding up the total amount spent for each platform\n",
    "plot_df = df.groupby('platform')['amount_spent'].sum().reset_index()\n",
    "\n",
    "# Plotting the percentage of total amount spent by platform\n",
    "alt.Chart(plot_df).transform_joinaggregate(\n",
    "    total_amount='sum(amount_spent)',\n",
    ").transform_calculate(\n",
    "    percent_of_total=\"datum.amount_spent / datum.total_amount\"\n",
    ").mark_bar(color=\"#C69320\").encode(\n",
    "    alt.X('percent_of_total:Q', axis=alt.Axis(format='.0%'), title='percentage of total'),\n",
    "    y='platform:N'\n",
    ")"
   ]
  },
  {
   "cell_type": "markdown",
   "id": "68800fa0-88c7-40b5-b218-75d0920965f4",
   "metadata": {},
   "source": [
    "## 4. Amount spent by benefits\n",
    "<p><img src=\"https://i.imgur.com/BNlszql.jpeg\" style=\"width:125px; float:right\"> </p>\n",
    "<p>Another interesting topic to analyze is the type of benefits/goods that are bought. This can trigger more questions like why players preferred one item over another or which items we can include in a special pack promo.</p>"
   ]
  },
  {
   "cell_type": "code",
   "execution_count": 5,
   "id": "043925fb-aa81-447f-b276-3f050ca64ead",
   "metadata": {},
   "outputs": [
    {
     "data": {
      "text/html": [
       "\n",
       "<div id=\"altair-viz-7847999731b047cbb4ba1f89edf2a2ee\"></div>\n",
       "<script type=\"text/javascript\">\n",
       "  var VEGA_DEBUG = (typeof VEGA_DEBUG == \"undefined\") ? {} : VEGA_DEBUG;\n",
       "  (function(spec, embedOpt){\n",
       "    let outputDiv = document.currentScript.previousElementSibling;\n",
       "    if (outputDiv.id !== \"altair-viz-7847999731b047cbb4ba1f89edf2a2ee\") {\n",
       "      outputDiv = document.getElementById(\"altair-viz-7847999731b047cbb4ba1f89edf2a2ee\");\n",
       "    }\n",
       "    const paths = {\n",
       "      \"vega\": \"https://cdn.jsdelivr.net/npm//vega@5?noext\",\n",
       "      \"vega-lib\": \"https://cdn.jsdelivr.net/npm//vega-lib?noext\",\n",
       "      \"vega-lite\": \"https://cdn.jsdelivr.net/npm//vega-lite@4.17.0?noext\",\n",
       "      \"vega-embed\": \"https://cdn.jsdelivr.net/npm//vega-embed@6?noext\",\n",
       "    };\n",
       "\n",
       "    function maybeLoadScript(lib, version) {\n",
       "      var key = `${lib.replace(\"-\", \"\")}_version`;\n",
       "      return (VEGA_DEBUG[key] == version) ?\n",
       "        Promise.resolve(paths[lib]) :\n",
       "        new Promise(function(resolve, reject) {\n",
       "          var s = document.createElement('script');\n",
       "          document.getElementsByTagName(\"head\")[0].appendChild(s);\n",
       "          s.async = true;\n",
       "          s.onload = () => {\n",
       "            VEGA_DEBUG[key] = version;\n",
       "            return resolve(paths[lib]);\n",
       "          };\n",
       "          s.onerror = () => reject(`Error loading script: ${paths[lib]}`);\n",
       "          s.src = paths[lib];\n",
       "        });\n",
       "    }\n",
       "\n",
       "    function showError(err) {\n",
       "      outputDiv.innerHTML = `<div class=\"error\" style=\"color:red;\">${err}</div>`;\n",
       "      throw err;\n",
       "    }\n",
       "\n",
       "    function displayChart(vegaEmbed) {\n",
       "      vegaEmbed(outputDiv, spec, embedOpt)\n",
       "        .catch(err => showError(`Javascript Error: ${err.message}<br>This usually means there's a typo in your chart specification. See the javascript console for the full traceback.`));\n",
       "    }\n",
       "\n",
       "    if(typeof define === \"function\" && define.amd) {\n",
       "      requirejs.config({paths});\n",
       "      require([\"vega-embed\"], displayChart, err => showError(`Error loading script: ${err.message}`));\n",
       "    } else {\n",
       "      maybeLoadScript(\"vega\", \"5\")\n",
       "        .then(() => maybeLoadScript(\"vega-lite\", \"4.17.0\"))\n",
       "        .then(() => maybeLoadScript(\"vega-embed\", \"6\"))\n",
       "        .catch(showError)\n",
       "        .then(() => displayChart(vegaEmbed));\n",
       "    }\n",
       "  })({\"config\": {\"view\": {\"continuousWidth\": 400, \"continuousHeight\": 300}}, \"data\": {\"name\": \"data-85fc68e12c9c9af0114dc1b462798a39\"}, \"mark\": \"bar\", \"encoding\": {\"color\": {\"field\": \"sink_channel\", \"type\": \"nominal\"}, \"x\": {\"field\": \"event_time\", \"type\": \"temporal\"}, \"y\": {\"field\": \"amount_spent\", \"type\": \"quantitative\"}}, \"$schema\": \"https://vega.github.io/schema/vega-lite/v4.17.0.json\", \"datasets\": {\"data-85fc68e12c9c9af0114dc1b462798a39\": [{\"event_time\": \"2018-07-01T00:00:00\", \"sink_channel\": \"sink_1\", \"amount_spent\": 3675120.0}, {\"event_time\": \"2018-07-01T00:00:00\", \"sink_channel\": \"sink_2\", \"amount_spent\": 5827600.0}, {\"event_time\": \"2018-07-01T00:00:00\", \"sink_channel\": \"sink_3\", \"amount_spent\": 201800.0}, {\"event_time\": \"2018-07-01T00:00:00\", \"sink_channel\": \"sink_4\", \"amount_spent\": 525.0}, {\"event_time\": \"2018-07-01T00:00:00\", \"sink_channel\": \"sink_5\", \"amount_spent\": 198000.0}, {\"event_time\": \"2018-07-01T00:00:00\", \"sink_channel\": \"sink_6\", \"amount_spent\": 2000.0}, {\"event_time\": \"2018-07-02T00:00:00\", \"sink_channel\": \"sink_1\", \"amount_spent\": 5439040.0}, {\"event_time\": \"2018-07-02T00:00:00\", \"sink_channel\": \"sink_2\", \"amount_spent\": 7297000.0}, {\"event_time\": \"2018-07-02T00:00:00\", \"sink_channel\": \"sink_3\", \"amount_spent\": 186500.0}, {\"event_time\": \"2018-07-02T00:00:00\", \"sink_channel\": \"sink_4\", \"amount_spent\": 125.0}, {\"event_time\": \"2018-07-02T00:00:00\", \"sink_channel\": \"sink_5\", \"amount_spent\": 177500.0}, {\"event_time\": \"2018-07-02T00:00:00\", \"sink_channel\": \"sink_6\", \"amount_spent\": 4000.0}, {\"event_time\": \"2018-07-02T00:00:00\", \"sink_channel\": \"sink_7\", \"amount_spent\": 2500.0}, {\"event_time\": \"2018-07-03T00:00:00\", \"sink_channel\": \"sink_1\", \"amount_spent\": 6811760.0}, {\"event_time\": \"2018-07-03T00:00:00\", \"sink_channel\": \"sink_2\", \"amount_spent\": 9629000.0}, {\"event_time\": \"2018-07-03T00:00:00\", \"sink_channel\": \"sink_3\", \"amount_spent\": 171600.0}, {\"event_time\": \"2018-07-03T00:00:00\", \"sink_channel\": \"sink_4\", \"amount_spent\": 325.0}, {\"event_time\": \"2018-07-03T00:00:00\", \"sink_channel\": \"sink_5\", \"amount_spent\": 101000.0}, {\"event_time\": \"2018-07-03T00:00:00\", \"sink_channel\": \"sink_6\", \"amount_spent\": 6000.0}, {\"event_time\": \"2018-07-03T00:00:00\", \"sink_channel\": \"sink_7\", \"amount_spent\": 4000.0}, {\"event_time\": \"2018-07-04T00:00:00\", \"sink_channel\": \"sink_1\", \"amount_spent\": 7441210.0}, {\"event_time\": \"2018-07-04T00:00:00\", \"sink_channel\": \"sink_2\", \"amount_spent\": 7775800.0}, {\"event_time\": \"2018-07-04T00:00:00\", \"sink_channel\": \"sink_3\", \"amount_spent\": 293100.0}, {\"event_time\": \"2018-07-04T00:00:00\", \"sink_channel\": \"sink_4\", \"amount_spent\": 850.0}, {\"event_time\": \"2018-07-04T00:00:00\", \"sink_channel\": \"sink_5\", \"amount_spent\": 108000.0}, {\"event_time\": \"2018-07-04T00:00:00\", \"sink_channel\": \"sink_6\", \"amount_spent\": 2000.0}, {\"event_time\": \"2018-07-04T00:00:00\", \"sink_channel\": \"sink_7\", \"amount_spent\": 1000.0}, {\"event_time\": \"2018-07-05T00:00:00\", \"sink_channel\": \"sink_1\", \"amount_spent\": 8343280.0}, {\"event_time\": \"2018-07-05T00:00:00\", \"sink_channel\": \"sink_2\", \"amount_spent\": 7993600.0}, {\"event_time\": \"2018-07-05T00:00:00\", \"sink_channel\": \"sink_3\", \"amount_spent\": 255300.0}, {\"event_time\": \"2018-07-05T00:00:00\", \"sink_channel\": \"sink_4\", \"amount_spent\": 1750.0}, {\"event_time\": \"2018-07-05T00:00:00\", \"sink_channel\": \"sink_5\", \"amount_spent\": 191000.0}, {\"event_time\": \"2018-07-05T00:00:00\", \"sink_channel\": \"sink_6\", \"amount_spent\": 16000.0}, {\"event_time\": \"2018-07-05T00:00:00\", \"sink_channel\": \"sink_7\", \"amount_spent\": 2000.0}, {\"event_time\": \"2018-07-06T00:00:00\", \"sink_channel\": \"sink_1\", \"amount_spent\": 9149605.0}, {\"event_time\": \"2018-07-06T00:00:00\", \"sink_channel\": \"sink_2\", \"amount_spent\": 9962400.0}, {\"event_time\": \"2018-07-06T00:00:00\", \"sink_channel\": \"sink_3\", \"amount_spent\": 201800.0}, {\"event_time\": \"2018-07-06T00:00:00\", \"sink_channel\": \"sink_4\", \"amount_spent\": 450.0}, {\"event_time\": \"2018-07-06T00:00:00\", \"sink_channel\": \"sink_5\", \"amount_spent\": 193000.0}, {\"event_time\": \"2018-07-06T00:00:00\", \"sink_channel\": \"sink_6\", \"amount_spent\": 38000.0}, {\"event_time\": \"2018-07-06T00:00:00\", \"sink_channel\": \"sink_7\", \"amount_spent\": 5500.0}, {\"event_time\": \"2018-07-07T00:00:00\", \"sink_channel\": \"sink_1\", \"amount_spent\": 13042800.0}, {\"event_time\": \"2018-07-07T00:00:00\", \"sink_channel\": \"sink_2\", \"amount_spent\": 20121800.0}, {\"event_time\": \"2018-07-07T00:00:00\", \"sink_channel\": \"sink_3\", \"amount_spent\": 758800.0}, {\"event_time\": \"2018-07-07T00:00:00\", \"sink_channel\": \"sink_4\", \"amount_spent\": 100.0}, {\"event_time\": \"2018-07-07T00:00:00\", \"sink_channel\": \"sink_5\", \"amount_spent\": 655000.0}, {\"event_time\": \"2018-07-07T00:00:00\", \"sink_channel\": \"sink_6\", \"amount_spent\": 34000.0}, {\"event_time\": \"2018-07-07T00:00:00\", \"sink_channel\": \"sink_7\", \"amount_spent\": 7000.0}, {\"event_time\": \"2018-07-08T00:00:00\", \"sink_channel\": \"sink_1\", \"amount_spent\": 16631120.0}, {\"event_time\": \"2018-07-08T00:00:00\", \"sink_channel\": \"sink_2\", \"amount_spent\": 23355200.0}, {\"event_time\": \"2018-07-08T00:00:00\", \"sink_channel\": \"sink_3\", \"amount_spent\": 1152400.0}, {\"event_time\": \"2018-07-08T00:00:00\", \"sink_channel\": \"sink_4\", \"amount_spent\": 1225.0}, {\"event_time\": \"2018-07-08T00:00:00\", \"sink_channel\": \"sink_5\", \"amount_spent\": 691500.0}, {\"event_time\": \"2018-07-08T00:00:00\", \"sink_channel\": \"sink_6\", \"amount_spent\": 51000.0}, {\"event_time\": \"2018-07-08T00:00:00\", \"sink_channel\": \"sink_7\", \"amount_spent\": 10500.0}, {\"event_time\": \"2018-07-09T00:00:00\", \"sink_channel\": \"sink_1\", \"amount_spent\": 18104960.0}, {\"event_time\": \"2018-07-09T00:00:00\", \"sink_channel\": \"sink_2\", \"amount_spent\": 18973600.0}, {\"event_time\": \"2018-07-09T00:00:00\", \"sink_channel\": \"sink_3\", \"amount_spent\": 651900.0}, {\"event_time\": \"2018-07-09T00:00:00\", \"sink_channel\": \"sink_4\", \"amount_spent\": 14050.0}, {\"event_time\": \"2018-07-09T00:00:00\", \"sink_channel\": \"sink_5\", \"amount_spent\": 679000.0}, {\"event_time\": \"2018-07-09T00:00:00\", \"sink_channel\": \"sink_6\", \"amount_spent\": 50000.0}, {\"event_time\": \"2018-07-09T00:00:00\", \"sink_channel\": \"sink_7\", \"amount_spent\": 9500.0}, {\"event_time\": \"2018-07-10T00:00:00\", \"sink_channel\": \"sink_1\", \"amount_spent\": 14890165.0}, {\"event_time\": \"2018-07-10T00:00:00\", \"sink_channel\": \"sink_2\", \"amount_spent\": 17551800.0}, {\"event_time\": \"2018-07-10T00:00:00\", \"sink_channel\": \"sink_3\", \"amount_spent\": 396400.0}, {\"event_time\": \"2018-07-10T00:00:00\", \"sink_channel\": \"sink_4\", \"amount_spent\": 1950.0}, {\"event_time\": \"2018-07-10T00:00:00\", \"sink_channel\": \"sink_5\", \"amount_spent\": 419500.0}, {\"event_time\": \"2018-07-10T00:00:00\", \"sink_channel\": \"sink_6\", \"amount_spent\": 40000.0}, {\"event_time\": \"2018-07-10T00:00:00\", \"sink_channel\": \"sink_7\", \"amount_spent\": 4500.0}, {\"event_time\": \"2018-07-11T00:00:00\", \"sink_channel\": \"sink_1\", \"amount_spent\": 13706720.0}, {\"event_time\": \"2018-07-11T00:00:00\", \"sink_channel\": \"sink_2\", \"amount_spent\": 13460000.0}, {\"event_time\": \"2018-07-11T00:00:00\", \"sink_channel\": \"sink_3\", \"amount_spent\": 425200.0}, {\"event_time\": \"2018-07-11T00:00:00\", \"sink_channel\": \"sink_4\", \"amount_spent\": 9300.0}, {\"event_time\": \"2018-07-11T00:00:00\", \"sink_channel\": \"sink_5\", \"amount_spent\": 543000.0}, {\"event_time\": \"2018-07-11T00:00:00\", \"sink_channel\": \"sink_6\", \"amount_spent\": 29000.0}, {\"event_time\": \"2018-07-11T00:00:00\", \"sink_channel\": \"sink_7\", \"amount_spent\": 2500.0}, {\"event_time\": \"2018-07-12T00:00:00\", \"sink_channel\": \"sink_1\", \"amount_spent\": 12808880.0}, {\"event_time\": \"2018-07-12T00:00:00\", \"sink_channel\": \"sink_2\", \"amount_spent\": 10967800.0}, {\"event_time\": \"2018-07-12T00:00:00\", \"sink_channel\": \"sink_3\", \"amount_spent\": 416500.0}, {\"event_time\": \"2018-07-12T00:00:00\", \"sink_channel\": \"sink_4\", \"amount_spent\": 2525.0}, {\"event_time\": \"2018-07-12T00:00:00\", \"sink_channel\": \"sink_5\", \"amount_spent\": 407500.0}, {\"event_time\": \"2018-07-12T00:00:00\", \"sink_channel\": \"sink_6\", \"amount_spent\": 37000.0}, {\"event_time\": \"2018-07-12T00:00:00\", \"sink_channel\": \"sink_7\", \"amount_spent\": 5500.0}, {\"event_time\": \"2018-07-13T00:00:00\", \"sink_channel\": \"sink_1\", \"amount_spent\": 13189225.0}, {\"event_time\": \"2018-07-13T00:00:00\", \"sink_channel\": \"sink_2\", \"amount_spent\": 12192200.0}, {\"event_time\": \"2018-07-13T00:00:00\", \"sink_channel\": \"sink_3\", \"amount_spent\": 268600.0}, {\"event_time\": \"2018-07-13T00:00:00\", \"sink_channel\": \"sink_4\", \"amount_spent\": 1225.0}, {\"event_time\": \"2018-07-13T00:00:00\", \"sink_channel\": \"sink_5\", \"amount_spent\": 402000.0}, {\"event_time\": \"2018-07-13T00:00:00\", \"sink_channel\": \"sink_6\", \"amount_spent\": 60000.0}, {\"event_time\": \"2018-07-13T00:00:00\", \"sink_channel\": \"sink_7\", \"amount_spent\": 2500.0}, {\"event_time\": \"2018-07-14T00:00:00\", \"sink_channel\": \"sink_1\", \"amount_spent\": 15787200.0}, {\"event_time\": \"2018-07-14T00:00:00\", \"sink_channel\": \"sink_2\", \"amount_spent\": 20938800.0}, {\"event_time\": \"2018-07-14T00:00:00\", \"sink_channel\": \"sink_3\", \"amount_spent\": 833000.0}, {\"event_time\": \"2018-07-14T00:00:00\", \"sink_channel\": \"sink_4\", \"amount_spent\": 18600.0}, {\"event_time\": \"2018-07-14T00:00:00\", \"sink_channel\": \"sink_5\", \"amount_spent\": 475500.0}, {\"event_time\": \"2018-07-14T00:00:00\", \"sink_channel\": \"sink_6\", \"amount_spent\": 54000.0}, {\"event_time\": \"2018-07-14T00:00:00\", \"sink_channel\": \"sink_7\", \"amount_spent\": 9000.0}, {\"event_time\": \"2018-07-15T00:00:00\", \"sink_channel\": \"sink_1\", \"amount_spent\": 19684730.0}, {\"event_time\": \"2018-07-15T00:00:00\", \"sink_channel\": \"sink_2\", \"amount_spent\": 23426600.0}, {\"event_time\": \"2018-07-15T00:00:00\", \"sink_channel\": \"sink_3\", \"amount_spent\": 1313800.0}, {\"event_time\": \"2018-07-15T00:00:00\", \"sink_channel\": \"sink_4\", \"amount_spent\": 759725.0}, {\"event_time\": \"2018-07-15T00:00:00\", \"sink_channel\": \"sink_5\", \"amount_spent\": 632500.0}, {\"event_time\": \"2018-07-15T00:00:00\", \"sink_channel\": \"sink_6\", \"amount_spent\": 54000.0}, {\"event_time\": \"2018-07-15T00:00:00\", \"sink_channel\": \"sink_7\", \"amount_spent\": 5500.0}, {\"event_time\": \"2018-07-16T00:00:00\", \"sink_channel\": \"sink_1\", \"amount_spent\": 22812335.0}, {\"event_time\": \"2018-07-16T00:00:00\", \"sink_channel\": \"sink_2\", \"amount_spent\": 22429400.0}, {\"event_time\": \"2018-07-16T00:00:00\", \"sink_channel\": \"sink_3\", \"amount_spent\": 767700.0}, {\"event_time\": \"2018-07-16T00:00:00\", \"sink_channel\": \"sink_4\", \"amount_spent\": 649025.0}, {\"event_time\": \"2018-07-16T00:00:00\", \"sink_channel\": \"sink_5\", \"amount_spent\": 784500.0}, {\"event_time\": \"2018-07-16T00:00:00\", \"sink_channel\": \"sink_6\", \"amount_spent\": 94000.0}, {\"event_time\": \"2018-07-16T00:00:00\", \"sink_channel\": \"sink_7\", \"amount_spent\": 6000.0}, {\"event_time\": \"2018-07-17T00:00:00\", \"sink_channel\": \"sink_1\", \"amount_spent\": 24209840.0}, {\"event_time\": \"2018-07-17T00:00:00\", \"sink_channel\": \"sink_2\", \"amount_spent\": 21790600.0}, {\"event_time\": \"2018-07-17T00:00:00\", \"sink_channel\": \"sink_3\", \"amount_spent\": 583000.0}, {\"event_time\": \"2018-07-17T00:00:00\", \"sink_channel\": \"sink_4\", \"amount_spent\": 665225.0}, {\"event_time\": \"2018-07-17T00:00:00\", \"sink_channel\": \"sink_5\", \"amount_spent\": 756500.0}, {\"event_time\": \"2018-07-17T00:00:00\", \"sink_channel\": \"sink_6\", \"amount_spent\": 37000.0}, {\"event_time\": \"2018-07-17T00:00:00\", \"sink_channel\": \"sink_7\", \"amount_spent\": 3500.0}, {\"event_time\": \"2018-07-18T00:00:00\", \"sink_channel\": \"sink_1\", \"amount_spent\": 24165440.0}, {\"event_time\": \"2018-07-18T00:00:00\", \"sink_channel\": \"sink_2\", \"amount_spent\": 20157600.0}, {\"event_time\": \"2018-07-18T00:00:00\", \"sink_channel\": \"sink_3\", \"amount_spent\": 655700.0}, {\"event_time\": \"2018-07-18T00:00:00\", \"sink_channel\": \"sink_4\", \"amount_spent\": 616600.0}, {\"event_time\": \"2018-07-18T00:00:00\", \"sink_channel\": \"sink_5\", \"amount_spent\": 605500.0}, {\"event_time\": \"2018-07-18T00:00:00\", \"sink_channel\": \"sink_6\", \"amount_spent\": 45000.0}, {\"event_time\": \"2018-07-18T00:00:00\", \"sink_channel\": \"sink_7\", \"amount_spent\": 7000.0}, {\"event_time\": \"2018-07-19T00:00:00\", \"sink_channel\": \"sink_1\", \"amount_spent\": 25392880.0}, {\"event_time\": \"2018-07-19T00:00:00\", \"sink_channel\": \"sink_2\", \"amount_spent\": 20378800.0}, {\"event_time\": \"2018-07-19T00:00:00\", \"sink_channel\": \"sink_3\", \"amount_spent\": 567600.0}, {\"event_time\": \"2018-07-19T00:00:00\", \"sink_channel\": \"sink_4\", \"amount_spent\": 570875.0}, {\"event_time\": \"2018-07-19T00:00:00\", \"sink_channel\": \"sink_5\", \"amount_spent\": 642000.0}, {\"event_time\": \"2018-07-19T00:00:00\", \"sink_channel\": \"sink_6\", \"amount_spent\": 37000.0}, {\"event_time\": \"2018-07-19T00:00:00\", \"sink_channel\": \"sink_7\", \"amount_spent\": 7500.0}, {\"event_time\": \"2018-07-20T00:00:00\", \"sink_channel\": \"sink_1\", \"amount_spent\": 22776650.0}, {\"event_time\": \"2018-07-20T00:00:00\", \"sink_channel\": \"sink_2\", \"amount_spent\": 18865000.0}, {\"event_time\": \"2018-07-20T00:00:00\", \"sink_channel\": \"sink_3\", \"amount_spent\": 427300.0}, {\"event_time\": \"2018-07-20T00:00:00\", \"sink_channel\": \"sink_4\", \"amount_spent\": 548925.0}, {\"event_time\": \"2018-07-20T00:00:00\", \"sink_channel\": \"sink_5\", \"amount_spent\": 427500.0}, {\"event_time\": \"2018-07-20T00:00:00\", \"sink_channel\": \"sink_6\", \"amount_spent\": 33000.0}, {\"event_time\": \"2018-07-20T00:00:00\", \"sink_channel\": \"sink_7\", \"amount_spent\": 3500.0}, {\"event_time\": \"2018-07-21T00:00:00\", \"sink_channel\": \"sink_1\", \"amount_spent\": 20322320.0}, {\"event_time\": \"2018-07-21T00:00:00\", \"sink_channel\": \"sink_2\", \"amount_spent\": 20629400.0}, {\"event_time\": \"2018-07-21T00:00:00\", \"sink_channel\": \"sink_3\", \"amount_spent\": 1343800.0}, {\"event_time\": \"2018-07-21T00:00:00\", \"sink_channel\": \"sink_4\", \"amount_spent\": 598075.0}, {\"event_time\": \"2018-07-21T00:00:00\", \"sink_channel\": \"sink_5\", \"amount_spent\": 753500.0}, {\"event_time\": \"2018-07-21T00:00:00\", \"sink_channel\": \"sink_6\", \"amount_spent\": 46000.0}, {\"event_time\": \"2018-07-21T00:00:00\", \"sink_channel\": \"sink_7\", \"amount_spent\": 29000.0}, {\"event_time\": \"2018-07-22T00:00:00\", \"sink_channel\": \"sink_1\", \"amount_spent\": 22841440.0}, {\"event_time\": \"2018-07-22T00:00:00\", \"sink_channel\": \"sink_2\", \"amount_spent\": 17047800.0}, {\"event_time\": \"2018-07-22T00:00:00\", \"sink_channel\": \"sink_3\", \"amount_spent\": 1822400.0}, {\"event_time\": \"2018-07-22T00:00:00\", \"sink_channel\": \"sink_4\", \"amount_spent\": 3750.0}, {\"event_time\": \"2018-07-22T00:00:00\", \"sink_channel\": \"sink_5\", \"amount_spent\": 648000.0}, {\"event_time\": \"2018-07-22T00:00:00\", \"sink_channel\": \"sink_6\", \"amount_spent\": 66000.0}, {\"event_time\": \"2018-07-22T00:00:00\", \"sink_channel\": \"sink_7\", \"amount_spent\": 30500.0}, {\"event_time\": \"2018-07-23T00:00:00\", \"sink_channel\": \"sink_1\", \"amount_spent\": 20813520.0}, {\"event_time\": \"2018-07-23T00:00:00\", \"sink_channel\": \"sink_2\", \"amount_spent\": 14855400.0}, {\"event_time\": \"2018-07-23T00:00:00\", \"sink_channel\": \"sink_3\", \"amount_spent\": 681600.0}, {\"event_time\": \"2018-07-23T00:00:00\", \"sink_channel\": \"sink_4\", \"amount_spent\": 4025.0}, {\"event_time\": \"2018-07-23T00:00:00\", \"sink_channel\": \"sink_5\", \"amount_spent\": 803500.0}, {\"event_time\": \"2018-07-23T00:00:00\", \"sink_channel\": \"sink_6\", \"amount_spent\": 62000.0}, {\"event_time\": \"2018-07-23T00:00:00\", \"sink_channel\": \"sink_7\", \"amount_spent\": 26500.0}, {\"event_time\": \"2018-07-24T00:00:00\", \"sink_channel\": \"sink_1\", \"amount_spent\": 17840560.0}, {\"event_time\": \"2018-07-24T00:00:00\", \"sink_channel\": \"sink_2\", \"amount_spent\": 15901800.0}, {\"event_time\": \"2018-07-24T00:00:00\", \"sink_channel\": \"sink_3\", \"amount_spent\": 350900.0}, {\"event_time\": \"2018-07-24T00:00:00\", \"sink_channel\": \"sink_4\", \"amount_spent\": 5050.0}, {\"event_time\": \"2018-07-24T00:00:00\", \"sink_channel\": \"sink_5\", \"amount_spent\": 815500.0}, {\"event_time\": \"2018-07-24T00:00:00\", \"sink_channel\": \"sink_6\", \"amount_spent\": 41000.0}, {\"event_time\": \"2018-07-24T00:00:00\", \"sink_channel\": \"sink_7\", \"amount_spent\": 5000.0}, {\"event_time\": \"2018-07-25T00:00:00\", \"sink_channel\": \"sink_1\", \"amount_spent\": 15140340.0}, {\"event_time\": \"2018-07-25T00:00:00\", \"sink_channel\": \"sink_2\", \"amount_spent\": 10064200.0}, {\"event_time\": \"2018-07-25T00:00:00\", \"sink_channel\": \"sink_3\", \"amount_spent\": 519500.0}, {\"event_time\": \"2018-07-25T00:00:00\", \"sink_channel\": \"sink_4\", \"amount_spent\": 5025.0}, {\"event_time\": \"2018-07-25T00:00:00\", \"sink_channel\": \"sink_5\", \"amount_spent\": 323000.0}, {\"event_time\": \"2018-07-25T00:00:00\", \"sink_channel\": \"sink_6\", \"amount_spent\": 58000.0}, {\"event_time\": \"2018-07-25T00:00:00\", \"sink_channel\": \"sink_7\", \"amount_spent\": 6500.0}, {\"event_time\": \"2018-07-26T00:00:00\", \"sink_channel\": \"sink_1\", \"amount_spent\": 14385365.0}, {\"event_time\": \"2018-07-26T00:00:00\", \"sink_channel\": \"sink_2\", \"amount_spent\": 9178600.0}, {\"event_time\": \"2018-07-26T00:00:00\", \"sink_channel\": \"sink_3\", \"amount_spent\": 363500.0}, {\"event_time\": \"2018-07-26T00:00:00\", \"sink_channel\": \"sink_4\", \"amount_spent\": 250.0}, {\"event_time\": \"2018-07-26T00:00:00\", \"sink_channel\": \"sink_5\", \"amount_spent\": 683500.0}, {\"event_time\": \"2018-07-26T00:00:00\", \"sink_channel\": \"sink_6\", \"amount_spent\": 30000.0}, {\"event_time\": \"2018-07-26T00:00:00\", \"sink_channel\": \"sink_7\", \"amount_spent\": 2000.0}, {\"event_time\": \"2018-07-27T00:00:00\", \"sink_channel\": \"sink_1\", \"amount_spent\": 12576565.0}, {\"event_time\": \"2018-07-27T00:00:00\", \"sink_channel\": \"sink_2\", \"amount_spent\": 8309600.0}, {\"event_time\": \"2018-07-27T00:00:00\", \"sink_channel\": \"sink_3\", \"amount_spent\": 244600.0}, {\"event_time\": \"2018-07-27T00:00:00\", \"sink_channel\": \"sink_4\", \"amount_spent\": 14575.0}, {\"event_time\": \"2018-07-27T00:00:00\", \"sink_channel\": \"sink_5\", \"amount_spent\": 216000.0}, {\"event_time\": \"2018-07-27T00:00:00\", \"sink_channel\": \"sink_6\", \"amount_spent\": 51000.0}, {\"event_time\": \"2018-07-27T00:00:00\", \"sink_channel\": \"sink_7\", \"amount_spent\": 6000.0}, {\"event_time\": \"2018-07-28T00:00:00\", \"sink_channel\": \"sink_1\", \"amount_spent\": 12719930.0}, {\"event_time\": \"2018-07-28T00:00:00\", \"sink_channel\": \"sink_2\", \"amount_spent\": 10978800.0}, {\"event_time\": \"2018-07-28T00:00:00\", \"sink_channel\": \"sink_3\", \"amount_spent\": 1074200.0}, {\"event_time\": \"2018-07-28T00:00:00\", \"sink_channel\": \"sink_4\", \"amount_spent\": 17350.0}, {\"event_time\": \"2018-07-28T00:00:00\", \"sink_channel\": \"sink_5\", \"amount_spent\": 364000.0}, {\"event_time\": \"2018-07-28T00:00:00\", \"sink_channel\": \"sink_6\", \"amount_spent\": 58000.0}, {\"event_time\": \"2018-07-28T00:00:00\", \"sink_channel\": \"sink_7\", \"amount_spent\": 5000.0}]}}, {\"mode\": \"vega-lite\"});\n",
       "</script>"
      ],
      "text/plain": [
       "alt.Chart(...)"
      ]
     },
     "execution_count": 5,
     "metadata": {},
     "output_type": "execute_result"
    }
   ],
   "source": [
    "# Adding up the amount spent each day by every type of benefit\n",
    "benefit_spending = df.groupby(by=[df['event_time'].dt.date,'sink_channel'])['amount_spent'].sum().reset_index()\n",
    "benefit_spending['event_time'] = benefit_spending ['event_time'].astype('datetime64')\n",
    "\n",
    "# Plotting the amount spent by type of benefit\n",
    "alt.Chart(benefit_spending).mark_bar().encode(\n",
    "    x='event_time',\n",
    "    y='amount_spent',\n",
    "    color='sink_channel'\n",
    ")"
   ]
  },
  {
   "cell_type": "markdown",
   "id": "2bedc48a-eb87-4c1d-8444-01132726dda2",
   "metadata": {},
   "source": [
    "## 5. Amount spent by day\n",
    "\n",
    "<p><img src=\"https://i.imgur.com/aYpOfR5.jpeg\" style=\"width:125px; float:right\"> </p>\n",
    "<p>Analysing transactions by day can enable more precise targeting of in-app offers. For example, to schedule promotions on a specific day when users are more likely to make a purchase.</p>"
   ]
  },
  {
   "cell_type": "code",
   "execution_count": 6,
   "id": "5c5eed25-2afa-4293-a214-aad4787f1abc",
   "metadata": {},
   "outputs": [
    {
     "data": {
      "text/html": [
       "\n",
       "<div id=\"altair-viz-fa2c0d3097004d38b04cd8c8807cd02a\"></div>\n",
       "<script type=\"text/javascript\">\n",
       "  var VEGA_DEBUG = (typeof VEGA_DEBUG == \"undefined\") ? {} : VEGA_DEBUG;\n",
       "  (function(spec, embedOpt){\n",
       "    let outputDiv = document.currentScript.previousElementSibling;\n",
       "    if (outputDiv.id !== \"altair-viz-fa2c0d3097004d38b04cd8c8807cd02a\") {\n",
       "      outputDiv = document.getElementById(\"altair-viz-fa2c0d3097004d38b04cd8c8807cd02a\");\n",
       "    }\n",
       "    const paths = {\n",
       "      \"vega\": \"https://cdn.jsdelivr.net/npm//vega@5?noext\",\n",
       "      \"vega-lib\": \"https://cdn.jsdelivr.net/npm//vega-lib?noext\",\n",
       "      \"vega-lite\": \"https://cdn.jsdelivr.net/npm//vega-lite@4.17.0?noext\",\n",
       "      \"vega-embed\": \"https://cdn.jsdelivr.net/npm//vega-embed@6?noext\",\n",
       "    };\n",
       "\n",
       "    function maybeLoadScript(lib, version) {\n",
       "      var key = `${lib.replace(\"-\", \"\")}_version`;\n",
       "      return (VEGA_DEBUG[key] == version) ?\n",
       "        Promise.resolve(paths[lib]) :\n",
       "        new Promise(function(resolve, reject) {\n",
       "          var s = document.createElement('script');\n",
       "          document.getElementsByTagName(\"head\")[0].appendChild(s);\n",
       "          s.async = true;\n",
       "          s.onload = () => {\n",
       "            VEGA_DEBUG[key] = version;\n",
       "            return resolve(paths[lib]);\n",
       "          };\n",
       "          s.onerror = () => reject(`Error loading script: ${paths[lib]}`);\n",
       "          s.src = paths[lib];\n",
       "        });\n",
       "    }\n",
       "\n",
       "    function showError(err) {\n",
       "      outputDiv.innerHTML = `<div class=\"error\" style=\"color:red;\">${err}</div>`;\n",
       "      throw err;\n",
       "    }\n",
       "\n",
       "    function displayChart(vegaEmbed) {\n",
       "      vegaEmbed(outputDiv, spec, embedOpt)\n",
       "        .catch(err => showError(`Javascript Error: ${err.message}<br>This usually means there's a typo in your chart specification. See the javascript console for the full traceback.`));\n",
       "    }\n",
       "\n",
       "    if(typeof define === \"function\" && define.amd) {\n",
       "      requirejs.config({paths});\n",
       "      require([\"vega-embed\"], displayChart, err => showError(`Error loading script: ${err.message}`));\n",
       "    } else {\n",
       "      maybeLoadScript(\"vega\", \"5\")\n",
       "        .then(() => maybeLoadScript(\"vega-lite\", \"4.17.0\"))\n",
       "        .then(() => maybeLoadScript(\"vega-embed\", \"6\"))\n",
       "        .catch(showError)\n",
       "        .then(() => displayChart(vegaEmbed));\n",
       "    }\n",
       "  })({\"config\": {\"view\": {\"continuousWidth\": 400, \"continuousHeight\": 300}}, \"layer\": [{\"mark\": {\"type\": \"rect\", \"color\": \"red\"}, \"encoding\": {\"color\": {\"field\": \"amount_spent\", \"scale\": {\"scheme\": \"goldred\"}, \"type\": \"quantitative\"}, \"x\": {\"field\": \"event_time\", \"timeUnit\": \"day\", \"title\": \"Week day\", \"type\": \"ordinal\"}, \"y\": {\"axis\": null, \"field\": \"week_number\", \"type\": \"ordinal\"}}, \"height\": 150, \"transform\": [{\"calculate\": \"floor((date(datum.event_time)-1) / 7)\", \"as\": \"week_number\"}], \"width\": 600}, {\"mark\": \"text\", \"encoding\": {\"color\": {\"condition\": {\"value\": \"black\", \"test\": \"(datum.amount_spent < 20000000)\"}, \"value\": \"white\"}, \"text\": {\"field\": \"event_time\", \"timeUnit\": \"date\", \"type\": \"temporal\"}, \"x\": {\"field\": \"event_time\", \"timeUnit\": \"day\", \"title\": \"Week day\", \"type\": \"ordinal\"}, \"y\": {\"axis\": null, \"field\": \"week_number\", \"type\": \"ordinal\"}}, \"height\": 150, \"transform\": [{\"calculate\": \"floor((date(datum.event_time)-1) / 7)\", \"as\": \"week_number\"}], \"width\": 600}], \"data\": {\"name\": \"data-5bdf1bfe6bfcef70f323da9319f222f0\"}, \"$schema\": \"https://vega.github.io/schema/vega-lite/v4.17.0.json\", \"datasets\": {\"data-5bdf1bfe6bfcef70f323da9319f222f0\": [{\"event_time\": \"2018-07-01T00:00:00\", \"amount_spent\": 9905045.0}, {\"event_time\": \"2018-07-02T00:00:00\", \"amount_spent\": 13106665.0}, {\"event_time\": \"2018-07-03T00:00:00\", \"amount_spent\": 16723685.0}, {\"event_time\": \"2018-07-04T00:00:00\", \"amount_spent\": 15621960.0}, {\"event_time\": \"2018-07-05T00:00:00\", \"amount_spent\": 16802930.0}, {\"event_time\": \"2018-07-06T00:00:00\", \"amount_spent\": 19550755.0}, {\"event_time\": \"2018-07-07T00:00:00\", \"amount_spent\": 34619500.0}, {\"event_time\": \"2018-07-08T00:00:00\", \"amount_spent\": 41892945.0}, {\"event_time\": \"2018-07-09T00:00:00\", \"amount_spent\": 38483010.0}, {\"event_time\": \"2018-07-10T00:00:00\", \"amount_spent\": 33304315.0}, {\"event_time\": \"2018-07-11T00:00:00\", \"amount_spent\": 28175720.0}, {\"event_time\": \"2018-07-12T00:00:00\", \"amount_spent\": 24645705.0}, {\"event_time\": \"2018-07-13T00:00:00\", \"amount_spent\": 26115750.0}, {\"event_time\": \"2018-07-14T00:00:00\", \"amount_spent\": 38116100.0}, {\"event_time\": \"2018-07-15T00:00:00\", \"amount_spent\": 45876855.0}, {\"event_time\": \"2018-07-16T00:00:00\", \"amount_spent\": 47542960.0}, {\"event_time\": \"2018-07-17T00:00:00\", \"amount_spent\": 48045665.0}, {\"event_time\": \"2018-07-18T00:00:00\", \"amount_spent\": 46252840.0}, {\"event_time\": \"2018-07-19T00:00:00\", \"amount_spent\": 47596655.0}, {\"event_time\": \"2018-07-20T00:00:00\", \"amount_spent\": 43081875.0}, {\"event_time\": \"2018-07-21T00:00:00\", \"amount_spent\": 43722095.0}, {\"event_time\": \"2018-07-22T00:00:00\", \"amount_spent\": 42459890.0}, {\"event_time\": \"2018-07-23T00:00:00\", \"amount_spent\": 37246545.0}, {\"event_time\": \"2018-07-24T00:00:00\", \"amount_spent\": 34959810.0}, {\"event_time\": \"2018-07-25T00:00:00\", \"amount_spent\": 26116565.0}, {\"event_time\": \"2018-07-26T00:00:00\", \"amount_spent\": 24643215.0}, {\"event_time\": \"2018-07-27T00:00:00\", \"amount_spent\": 21418340.0}, {\"event_time\": \"2018-07-28T00:00:00\", \"amount_spent\": 25217280.0}]}}, {\"mode\": \"vega-lite\"});\n",
       "</script>"
      ],
      "text/plain": [
       "alt.LayerChart(...)"
      ]
     },
     "execution_count": 6,
     "metadata": {},
     "output_type": "execute_result"
    }
   ],
   "source": [
    "# Adding up the amount spent for each date \n",
    "difficulty = df.groupby(df['event_time'].dt.date)['amount_spent'].sum().reset_index()\n",
    "difficulty['event_time'] = difficulty['event_time'].astype('datetime64')\n",
    "\n",
    "# Plotting the total amount spent by day\n",
    "base = alt.Chart(difficulty).transform_calculate(\n",
    "    week_number=\"floor((date(datum.event_time)-1) / 7)\"\n",
    ").encode(\n",
    "    alt.X('day(event_time):O', title='Week day'),\n",
    "    alt.Y('week_number:O', axis=None),\n",
    ").properties(width=600,height=150)\n",
    "\n",
    "# Configure heatmap\n",
    "heatmap = base.mark_rect(color='red').encode(\n",
    "    color=alt.Color('amount_spent:Q', scale=alt.Scale(scheme=\"goldred\"))\n",
    ")\n",
    "\n",
    "# Configure text\n",
    "text = base.mark_text().encode(\n",
    "    text='date(event_time):T',\n",
    "    color=alt.condition(\n",
    "        alt.datum.amount_spent < 20000000,\n",
    "        alt.value('black'),\n",
    "        alt.value('white')\n",
    "    )\n",
    ")\n",
    "\n",
    "# Draw the chart\n",
    "heatmap + text"
   ]
  },
  {
   "cell_type": "markdown",
   "id": "4154e449-e317-4307-bb16-77645003f2a2",
   "metadata": {},
   "source": [
    "## 6. Amount spent vs users registered\n",
    "\n",
    "<p>So, during the third week of July we can notice a significant increase of coins spent. Now, let's take a closer look and compare the amount spent average vs users registered average to see if we can find some relation between the two variables.</p>"
   ]
  },
  {
   "cell_type": "code",
   "execution_count": 7,
   "id": "473013a7-8b66-4df9-8bdb-1b5a87f113ca",
   "metadata": {},
   "outputs": [
    {
     "data": {
      "text/html": [
       "\n",
       "<div id=\"altair-viz-a85dc5d5933b4294a5751171a2f0dba7\"></div>\n",
       "<script type=\"text/javascript\">\n",
       "  var VEGA_DEBUG = (typeof VEGA_DEBUG == \"undefined\") ? {} : VEGA_DEBUG;\n",
       "  (function(spec, embedOpt){\n",
       "    let outputDiv = document.currentScript.previousElementSibling;\n",
       "    if (outputDiv.id !== \"altair-viz-a85dc5d5933b4294a5751171a2f0dba7\") {\n",
       "      outputDiv = document.getElementById(\"altair-viz-a85dc5d5933b4294a5751171a2f0dba7\");\n",
       "    }\n",
       "    const paths = {\n",
       "      \"vega\": \"https://cdn.jsdelivr.net/npm//vega@5?noext\",\n",
       "      \"vega-lib\": \"https://cdn.jsdelivr.net/npm//vega-lib?noext\",\n",
       "      \"vega-lite\": \"https://cdn.jsdelivr.net/npm//vega-lite@4.17.0?noext\",\n",
       "      \"vega-embed\": \"https://cdn.jsdelivr.net/npm//vega-embed@6?noext\",\n",
       "    };\n",
       "\n",
       "    function maybeLoadScript(lib, version) {\n",
       "      var key = `${lib.replace(\"-\", \"\")}_version`;\n",
       "      return (VEGA_DEBUG[key] == version) ?\n",
       "        Promise.resolve(paths[lib]) :\n",
       "        new Promise(function(resolve, reject) {\n",
       "          var s = document.createElement('script');\n",
       "          document.getElementsByTagName(\"head\")[0].appendChild(s);\n",
       "          s.async = true;\n",
       "          s.onload = () => {\n",
       "            VEGA_DEBUG[key] = version;\n",
       "            return resolve(paths[lib]);\n",
       "          };\n",
       "          s.onerror = () => reject(`Error loading script: ${paths[lib]}`);\n",
       "          s.src = paths[lib];\n",
       "        });\n",
       "    }\n",
       "\n",
       "    function showError(err) {\n",
       "      outputDiv.innerHTML = `<div class=\"error\" style=\"color:red;\">${err}</div>`;\n",
       "      throw err;\n",
       "    }\n",
       "\n",
       "    function displayChart(vegaEmbed) {\n",
       "      vegaEmbed(outputDiv, spec, embedOpt)\n",
       "        .catch(err => showError(`Javascript Error: ${err.message}<br>This usually means there's a typo in your chart specification. See the javascript console for the full traceback.`));\n",
       "    }\n",
       "\n",
       "    if(typeof define === \"function\" && define.amd) {\n",
       "      requirejs.config({paths});\n",
       "      require([\"vega-embed\"], displayChart, err => showError(`Error loading script: ${err.message}`));\n",
       "    } else {\n",
       "      maybeLoadScript(\"vega\", \"5\")\n",
       "        .then(() => maybeLoadScript(\"vega-lite\", \"4.17.0\"))\n",
       "        .then(() => maybeLoadScript(\"vega-embed\", \"6\"))\n",
       "        .catch(showError)\n",
       "        .then(() => displayChart(vegaEmbed));\n",
       "    }\n",
       "  })({\"config\": {\"view\": {\"continuousWidth\": 400, \"continuousHeight\": 300}}, \"layer\": [{\"mark\": {\"type\": \"line\", \"color\": \"#C69320\"}, \"encoding\": {\"x\": {\"field\": \"user_creation_time\", \"title\": \"date\", \"type\": \"temporal\"}, \"y\": {\"axis\": {\"format\": \"$f\", \"title\": \"amount spent avg\", \"titleColor\": \"#C69320\"}, \"field\": \"rolling_mean\", \"type\": \"quantitative\"}}, \"transform\": [{\"window\": [{\"op\": \"mean\", \"field\": \"amount_spent\", \"as\": \"rolling_mean\"}], \"frame\": [-2, 0]}]}, {\"mark\": {\"type\": \"line\", \"color\": \"#80CEE1\"}, \"encoding\": {\"x\": {\"field\": \"user_creation_time\", \"title\": \"date\", \"type\": \"temporal\"}, \"y\": {\"axis\": {\"format\": \"d\", \"title\": \"users registered avg\", \"titleColor\": \"#80CEE1\"}, \"field\": \"rolling_mean\", \"type\": \"quantitative\"}}, \"transform\": [{\"window\": [{\"op\": \"mean\", \"field\": \"users_registered\", \"as\": \"rolling_mean\"}], \"frame\": [-2, 0]}]}], \"data\": {\"name\": \"data-ace0b460cd9c81660bb36919faa3b5b6\"}, \"resolve\": {\"scale\": {\"y\": \"independent\"}}, \"$schema\": \"https://vega.github.io/schema/vega-lite/v4.17.0.json\", \"datasets\": {\"data-ace0b460cd9c81660bb36919faa3b5b6\": [{\"user_creation_time\": \"2018-07-01T00:00:00\", \"users_registered\": 5551, \"amount_spent\": 9905045.0}, {\"user_creation_time\": \"2018-07-02T00:00:00\", \"users_registered\": 3910, \"amount_spent\": 13106665.0}, {\"user_creation_time\": \"2018-07-03T00:00:00\", \"users_registered\": 3403, \"amount_spent\": 16723685.0}, {\"user_creation_time\": \"2018-07-04T00:00:00\", \"users_registered\": 3086, \"amount_spent\": 15621960.0}, {\"user_creation_time\": \"2018-07-05T00:00:00\", \"users_registered\": 3004, \"amount_spent\": 16802930.0}, {\"user_creation_time\": \"2018-07-06T00:00:00\", \"users_registered\": 3237, \"amount_spent\": 19550755.0}, {\"user_creation_time\": \"2018-07-07T00:00:00\", \"users_registered\": 4674, \"amount_spent\": 34619500.0}, {\"user_creation_time\": \"2018-07-08T00:00:00\", \"users_registered\": 5364, \"amount_spent\": 41892945.0}, {\"user_creation_time\": \"2018-07-09T00:00:00\", \"users_registered\": 5414, \"amount_spent\": 38483010.0}, {\"user_creation_time\": \"2018-07-10T00:00:00\", \"users_registered\": 3564, \"amount_spent\": 33304315.0}, {\"user_creation_time\": \"2018-07-11T00:00:00\", \"users_registered\": 2901, \"amount_spent\": 28175720.0}, {\"user_creation_time\": \"2018-07-12T00:00:00\", \"users_registered\": 2852, \"amount_spent\": 24645705.0}, {\"user_creation_time\": \"2018-07-13T00:00:00\", \"users_registered\": 4517, \"amount_spent\": 26115750.0}, {\"user_creation_time\": \"2018-07-14T00:00:00\", \"users_registered\": 5091, \"amount_spent\": 38116100.0}, {\"user_creation_time\": \"2018-07-15T00:00:00\", \"users_registered\": 6637, \"amount_spent\": 45876855.0}, {\"user_creation_time\": \"2018-07-16T00:00:00\", \"users_registered\": 6311, \"amount_spent\": 47542960.0}, {\"user_creation_time\": \"2018-07-17T00:00:00\", \"users_registered\": 5759, \"amount_spent\": 48045665.0}, {\"user_creation_time\": \"2018-07-18T00:00:00\", \"users_registered\": 5074, \"amount_spent\": 46252840.0}, {\"user_creation_time\": \"2018-07-19T00:00:00\", \"users_registered\": 6248, \"amount_spent\": 47596655.0}, {\"user_creation_time\": \"2018-07-20T00:00:00\", \"users_registered\": 4836, \"amount_spent\": 43081875.0}, {\"user_creation_time\": \"2018-07-21T00:00:00\", \"users_registered\": 3957, \"amount_spent\": 43722095.0}]}}, {\"mode\": \"vega-lite\"});\n",
       "</script>"
      ],
      "text/plain": [
       "alt.LayerChart(...)"
      ]
     },
     "execution_count": 7,
     "metadata": {},
     "output_type": "execute_result"
    }
   ],
   "source": [
    "# Counting unique users registered for each date \n",
    "source = df.groupby([df['user_creation_time'].dt.date])['user_id'].nunique().reset_index(name = 'users_registered')\n",
    "# Adding up the amount spent for each date \n",
    "source['amount_spent'] = df.groupby(df['event_time'].dt.date)['amount_spent'].sum().reset_index()['amount_spent']\n",
    "source['user_creation_time'] = source['user_creation_time'].astype('datetime64')\n",
    "\n",
    "# Plotting amount spent avg vs users registered avg\n",
    "base = alt.Chart(source).encode(\n",
    "    x=alt.X('user_creation_time:T', title='date')\n",
    ")\n",
    "\n",
    "# Configure line chart of amount spent avg\n",
    "amount_spent = base.mark_line(color=\"#C69320\").transform_window(\n",
    "    # The field to average\n",
    "    rolling_mean='mean(amount_spent)',\n",
    "    # The number of values before and after the current value to include.\n",
    "    frame=[-2, 0]\n",
    ").encode(\n",
    "    y=alt.Y('rolling_mean:Q', axis=alt.Axis(format='$f', title='amount spent avg', titleColor='#C69320'))\n",
    ")\n",
    "\n",
    "# Configure line chart of users registered avg\n",
    "users_registered = base.mark_line(color='#80CEE1').transform_window(\n",
    "    rolling_mean='mean(users_registered)',\n",
    "    frame=[-2, 0]\n",
    ").encode(\n",
    "    y=alt.Y('rolling_mean:Q', axis=alt.Axis(format='d', title='users registered avg', titleColor='#80CEE1'))\n",
    ")\n",
    "\n",
    "alt.layer(amount_spent, users_registered).resolve_scale(\n",
    "    y = 'independent'\n",
    ")"
   ]
  },
  {
   "cell_type": "markdown",
   "id": "d503a3aa-4cbb-4699-8643-f2b77a298700",
   "metadata": {},
   "source": [
    "## 7. Days passed between registration and first transaction\n",
    "\n",
    "<p>There is a similarity between the distribution of amount and users registered. The peak of coins spent can be related to an increase of users registered during the third week. Let's plot how many days pass between the registration and the first transaction.</p>"
   ]
  },
  {
   "cell_type": "code",
   "execution_count": 8,
   "id": "7c2966a0-1225-43fe-baae-45f62203d080",
   "metadata": {},
   "outputs": [
    {
     "data": {
      "text/html": [
       "\n",
       "<div id=\"altair-viz-679a5684edf040b0a5104b6495e70003\"></div>\n",
       "<script type=\"text/javascript\">\n",
       "  var VEGA_DEBUG = (typeof VEGA_DEBUG == \"undefined\") ? {} : VEGA_DEBUG;\n",
       "  (function(spec, embedOpt){\n",
       "    let outputDiv = document.currentScript.previousElementSibling;\n",
       "    if (outputDiv.id !== \"altair-viz-679a5684edf040b0a5104b6495e70003\") {\n",
       "      outputDiv = document.getElementById(\"altair-viz-679a5684edf040b0a5104b6495e70003\");\n",
       "    }\n",
       "    const paths = {\n",
       "      \"vega\": \"https://cdn.jsdelivr.net/npm//vega@5?noext\",\n",
       "      \"vega-lib\": \"https://cdn.jsdelivr.net/npm//vega-lib?noext\",\n",
       "      \"vega-lite\": \"https://cdn.jsdelivr.net/npm//vega-lite@4.17.0?noext\",\n",
       "      \"vega-embed\": \"https://cdn.jsdelivr.net/npm//vega-embed@6?noext\",\n",
       "    };\n",
       "\n",
       "    function maybeLoadScript(lib, version) {\n",
       "      var key = `${lib.replace(\"-\", \"\")}_version`;\n",
       "      return (VEGA_DEBUG[key] == version) ?\n",
       "        Promise.resolve(paths[lib]) :\n",
       "        new Promise(function(resolve, reject) {\n",
       "          var s = document.createElement('script');\n",
       "          document.getElementsByTagName(\"head\")[0].appendChild(s);\n",
       "          s.async = true;\n",
       "          s.onload = () => {\n",
       "            VEGA_DEBUG[key] = version;\n",
       "            return resolve(paths[lib]);\n",
       "          };\n",
       "          s.onerror = () => reject(`Error loading script: ${paths[lib]}`);\n",
       "          s.src = paths[lib];\n",
       "        });\n",
       "    }\n",
       "\n",
       "    function showError(err) {\n",
       "      outputDiv.innerHTML = `<div class=\"error\" style=\"color:red;\">${err}</div>`;\n",
       "      throw err;\n",
       "    }\n",
       "\n",
       "    function displayChart(vegaEmbed) {\n",
       "      vegaEmbed(outputDiv, spec, embedOpt)\n",
       "        .catch(err => showError(`Javascript Error: ${err.message}<br>This usually means there's a typo in your chart specification. See the javascript console for the full traceback.`));\n",
       "    }\n",
       "\n",
       "    if(typeof define === \"function\" && define.amd) {\n",
       "      requirejs.config({paths});\n",
       "      require([\"vega-embed\"], displayChart, err => showError(`Error loading script: ${err.message}`));\n",
       "    } else {\n",
       "      maybeLoadScript(\"vega\", \"5\")\n",
       "        .then(() => maybeLoadScript(\"vega-lite\", \"4.17.0\"))\n",
       "        .then(() => maybeLoadScript(\"vega-embed\", \"6\"))\n",
       "        .catch(showError)\n",
       "        .then(() => displayChart(vegaEmbed));\n",
       "    }\n",
       "  })({\"config\": {\"view\": {\"continuousWidth\": 400, \"continuousHeight\": 300}}, \"data\": {\"name\": \"data-881c2e7335ffffa78b0d227060f73003\"}, \"mark\": \"bar\", \"encoding\": {\"x\": {\"field\": \"days\", \"type\": \"quantitative\"}, \"y\": {\"field\": \"first_transaction\", \"type\": \"quantitative\"}}, \"transform\": [{\"filter\": \"datum.days > 0\"}], \"$schema\": \"https://vega.github.io/schema/vega-lite/v4.17.0.json\", \"datasets\": {\"data-881c2e7335ffffa78b0d227060f73003\": [{\"days\": -4, \"first_transaction\": 1}, {\"days\": -1, \"first_transaction\": 4}, {\"days\": 0, \"first_transaction\": 64240}, {\"days\": 1, \"first_transaction\": 9204}, {\"days\": 2, \"first_transaction\": 5393}, {\"days\": 3, \"first_transaction\": 3510}, {\"days\": 4, \"first_transaction\": 2358}, {\"days\": 5, \"first_transaction\": 2082}, {\"days\": 6, \"first_transaction\": 1667}, {\"days\": 7, \"first_transaction\": 1323}, {\"days\": 8, \"first_transaction\": 1045}, {\"days\": 9, \"first_transaction\": 851}, {\"days\": 10, \"first_transaction\": 666}, {\"days\": 11, \"first_transaction\": 519}, {\"days\": 12, \"first_transaction\": 473}, {\"days\": 13, \"first_transaction\": 433}, {\"days\": 14, \"first_transaction\": 316}, {\"days\": 15, \"first_transaction\": 225}, {\"days\": 16, \"first_transaction\": 222}, {\"days\": 17, \"first_transaction\": 174}, {\"days\": 18, \"first_transaction\": 159}, {\"days\": 19, \"first_transaction\": 136}, {\"days\": 20, \"first_transaction\": 94}, {\"days\": 21, \"first_transaction\": 77}, {\"days\": 22, \"first_transaction\": 67}, {\"days\": 23, \"first_transaction\": 47}, {\"days\": 24, \"first_transaction\": 44}, {\"days\": 25, \"first_transaction\": 34}, {\"days\": 26, \"first_transaction\": 19}, {\"days\": 27, \"first_transaction\": 5}]}}, {\"mode\": \"vega-lite\"});\n",
       "</script>"
      ],
      "text/plain": [
       "alt.Chart(...)"
      ]
     },
     "execution_count": 8,
     "metadata": {},
     "output_type": "execute_result"
    }
   ],
   "source": [
    "# Filtering the first transaction of each user\n",
    "transactions = df.loc[df.groupby('user_id')['event_time'].idxmin()]\n",
    "# Counting the days between the registration and the first transaction \n",
    "transactions['days'] = (df['event_time'] - df['user_creation_time']).dt.days\n",
    "# Counting the amount of transactions grouped by the days passed\n",
    "transactions = transactions.groupby('days')['user_id'].count().reset_index(name = 'first_transaction')\n",
    "\n",
    "# Plotting the amount of first transactions by the days passed\n",
    "alt.Chart(transactions).transform_filter(\n",
    "    'datum.days > 0'\n",
    ").mark_bar().encode(\n",
    "    x='days',\n",
    "    y='first_transaction'\n",
    ")"
   ]
  },
  {
   "cell_type": "markdown",
   "id": "da8cfb96-9dc4-46a8-b4da-711355569356",
   "metadata": {},
   "source": [
    "## 8. Conclusion\n",
    "<p><img src=\"https://www.triviacrack.com/static/media/willy.c2defd328754a06192ff.png\" style=\"width:150px; float:right\"> </p>\n",
    "<p>It seems that the increase in money spent in the third week is due to a rise in registered users during that week. </p>\n",
    "<p>New users tend to spend the coins they earned on their first day, so we can offer a good deal for new users to get acquainted with in-app purchase promotions.</p>"
   ]
  },
  {
   "cell_type": "code",
   "execution_count": 9,
   "id": "16a3cb1f-0057-497e-b2bd-c801aace04e6",
   "metadata": {},
   "outputs": [],
   "source": [
    "# Should we create a sweet deal on the third week of the month for new users ?\n",
    "create_deal = True"
   ]
  }
 ],
 "metadata": {
  "colab": {
   "name": "Welcome to DataCamp Workspaces.ipynb",
   "provenance": []
  },
  "kernelspec": {
   "display_name": "Python 3 (ipykernel)",
   "language": "python",
   "name": "python3"
  },
  "language_info": {
   "codemirror_mode": {
    "name": "ipython",
    "version": 3
   },
   "file_extension": ".py",
   "mimetype": "text/x-python",
   "name": "python",
   "nbconvert_exporter": "python",
   "pygments_lexer": "ipython3",
   "version": "3.8.10"
  }
 },
 "nbformat": 4,
 "nbformat_minor": 5
}
